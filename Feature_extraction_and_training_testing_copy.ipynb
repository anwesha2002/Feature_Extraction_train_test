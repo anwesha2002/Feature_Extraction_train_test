{
  "nbformat": 4,
  "nbformat_minor": 0,
  "metadata": {
    "colab": {
      "provenance": [],
      "authorship_tag": "ABX9TyNnDILXyQ0U51Bg+M+PaJ/V"
    },
    "kernelspec": {
      "name": "python3",
      "display_name": "Python 3"
    },
    "language_info": {
      "name": "python"
    }
  },
  "cells": [
    {
      "cell_type": "code",
      "execution_count": null,
      "metadata": {
        "id": "gsqEQORTQ4nA"
      },
      "outputs": [],
      "source": [
        "import cv2\n",
        "import numpy as np\n",
        "import pandas as pd\n",
        "import glob\n",
        "import os\n",
        "import csv\n",
        "import joblib\n",
        "import matplotlib.pyplot as plt\n",
        "# from skimage.feature import hog\n",
        "from sklearn.model_selection import train_test_split\n",
        "from sklearn.tree import DecisionTreeClassifier\n",
        "from sklearn.metrics import accuracy_score, classification_report, confusion_matrix\n",
        "from sklearn import tree\n",
        "from skimage.feature import graycomatrix, graycoprops\n",
        "\n",
        "\n",
        "\n",
        "def load_extract_feature(image_path):\n",
        "  img = cv2.imread(image_path)\n",
        "  # Resize image to (128, 128)\n",
        "  img_resized = cv2.resize(img, (128, 128))\n",
        "  # Convert image to grayscale\n",
        "  img_gray = cv2.cvtColor(img_resized, cv2.COLOR_BGR2GRAY)\n",
        "\n",
        "  #hog\n",
        "  winSize = (128, 128)\n",
        "  blockSize = (64, 64)\n",
        "  blockStride = (32, 32)\n",
        "  cellSize = (32, 32)\n",
        "  nbins = 9\n",
        "  hog = cv2.HOGDescriptor(winSize, blockSize, blockStride, cellSize, nbins)\n",
        "  features = hog.compute(img_gray)\n",
        "\n",
        "  # # Generate GLCM\n",
        "  # image2D = (255*np.array(img_gray)).astype(np.uint8) # 'Your_2D_np_array'\n",
        "  # distances = [1,2,3] # Offset\n",
        "  # angles = [0, np.pi/4, np.pi/2, 3*np.pi/4]  # Vertical Direction\n",
        "  # glcm = graycomatrix(image2D, distances=distances, angles=angles,levels=256,symmetric=True, normed=True)\n",
        "\n",
        "  # # Calculate Features from GLCM\n",
        "  # features = []\n",
        "  # props = ['dissimilarity', 'correlation', 'homogeneity', 'contrast', 'ASM', 'energy']\n",
        "\n",
        "  # for name in props:\n",
        "  #   for propery in graycoprops(glcm, name):\n",
        "  #     features.extend(propery)  # Flatten the properties\n",
        "\n",
        "\n",
        "  # features = np.array(features)\n",
        "\n",
        "  # sift = cv2.xfeatures2d.SIFT_create()\n",
        "\n",
        "  # # Detect keypoints and compute descriptors\n",
        "  # keypoints, descriptors = sift.detectAndCompute(img_gray, None)\n",
        "\n",
        "  # # Flatten the descriptors\n",
        "  # features = np.array(descriptors)\n",
        "\n",
        "\n",
        "\n",
        "  return features\n",
        "\n",
        "def append_to_csv(features,label, feature_file, label_file):\n",
        "    # Convert features to a 1D array\n",
        "    features = features.flatten()\n",
        "    # Append features to the feature CSV file\n",
        "    with open(feature_file, 'a') as f_feat:\n",
        "        np.savetxt(f_feat, [features], delimiter=\",\")\n",
        "    # Append label to the label CSV file\n",
        "    with open(label_file, 'a') as f_label:\n",
        "        f_label.write(f\"{label}\\n\")\n",
        "\n",
        "\n",
        "\n",
        "def process_images(images_path,label,feature_file,label_file):\n",
        "  for image in images_path:\n",
        "      feature = load_extract_feature(image)\n",
        "      append_to_csv(feature,label, feature_file, label_file)\n",
        "\n",
        "\n",
        "\n",
        "A = np.loadtxt('/content/image_features.csv', delimiter=',')\n",
        "\n",
        "\n",
        "\n",
        "\n",
        "with open('/content/image_labels.csv' , 'r') as file:\n",
        "  data1 = csv.reader(file)\n",
        "  z=[]\n",
        "  for i in data1:\n",
        "    if i == ['handwritten']:\n",
        "      z.append(0)\n",
        "    if i == ['printed']:\n",
        "      z.append(1)\n",
        "\n",
        "B = np.array(z)\n",
        "# B = np.loadtxt('/content/image_labels.csv', delimiter=',', dtype='float64')\n",
        "\n",
        "\n",
        "\n",
        "feature_csv = 'image_features.csv'\n",
        "label_csv = 'image_labels.csv'\n",
        "\n",
        "# Initialize CSV files\n",
        "if os.path.exists(feature_csv):\n",
        "    os.remove(feature_csv)\n",
        "if os.path.exists(label_csv):\n",
        "    os.remove(label_csv)\n",
        "\n",
        "handwritten_images = []\n",
        "printed_images= []\n",
        "\n",
        "# print(handwritten_images)\n",
        "dir = r'/content/drive/MyDrive/prescription-hand'\n",
        "for files in glob.glob(f\"{dir}/*\"):\n",
        "    with open(os.path.join(dir, files)) as f:\n",
        "      handwritten_images.append(files)\n",
        "\n",
        "# print(printed_images)\n",
        "dir = r'/content/drive/MyDrive/prescription-print'\n",
        "for files in glob.glob(f\"{dir}/*\"):\n",
        "    with open(os.path.join(dir, files)) as f:\n",
        "      printed_images.append(files)\n",
        "\n",
        "\n",
        "\n",
        "process_images(handwritten_images,\"handwritten\",feature_csv,label_csv)\n",
        "process_images(printed_images,\"printed\",feature_csv,label_csv)\n",
        "\n",
        "\n",
        "X_train,X_test,y_train,y_test=train_test_split(A,B,random_state=0)\n",
        "clf=DecisionTreeClassifier(random_state=30)\n",
        "clf.fit(X_train,y_train)\n",
        "#y_train_predicted=clf.predict(X_train)\n",
        "y_test_predicted=clf.predict(X_test)\n",
        "#accuracy_score(y_train,y_train_predicted)\n",
        "print(accuracy_score(y_test,y_test_predicted))\n",
        "print(classification_report(y_test,y_test_predicted))\n",
        "confusion_matrix(y_test,y_test_predicted)\n",
        "\n"
      ]
    },
    {
      "cell_type": "code",
      "source": [
        "path=clf.cost_complexity_pruning_path(X_train,y_train)\n",
        "#path variable gives two things ccp_alphas and impurities\n",
        "ccp_alphas,impurities=path.ccp_alphas,path.impurities"
      ],
      "metadata": {
        "id": "-1ftTWDnEuVX"
      },
      "execution_count": null,
      "outputs": []
    },
    {
      "cell_type": "code",
      "source": [
        "clfs=[]   #will store all the models here\n",
        "for ccp_alpha in ccp_alphas:\n",
        "    clf=DecisionTreeClassifier(random_state=0,ccp_alpha=ccp_alpha)\n",
        "    clf.fit(X_train,y_train)\n",
        "    clfs.append(clf)\n",
        "print(\"Last node in Decision tree is {} and ccp_alpha for last node is {}\".format(clfs[-1].tree_.node_count,ccp_alphas[-1]))"
      ],
      "metadata": {
        "id": "K1j_LIIJEynG"
      },
      "execution_count": null,
      "outputs": []
    },
    {
      "cell_type": "code",
      "source": [
        "train_scores = [clf.score(X_train, y_train) for clf in clfs]\n",
        "test_scores = [clf.score(X_test, y_test) for clf in clfs]\n",
        "fig, ax = plt.subplots()\n",
        "ax.set_xlabel(\"alpha\")\n",
        "ax.set_ylabel(\"accuracy\")\n",
        "ax.set_title(\"Accuracy vs alpha for training and testing sets\")\n",
        "ax.plot(ccp_alphas, train_scores, marker='o', label=\"train\",drawstyle=\"steps-post\")\n",
        "ax.plot(ccp_alphas, test_scores, marker='o', label=\"test\",drawstyle=\"steps-post\")\n",
        "ax.legend()\n",
        "plt.show()"
      ],
      "metadata": {
        "id": "S-KVMOZkE20P"
      },
      "execution_count": null,
      "outputs": []
    },
    {
      "cell_type": "code",
      "source": [
        "clf=DecisionTreeClassifier(random_state=0,ccp_alpha=0.02)\n",
        "clf.fit(X_train,y_train)\n",
        "plt.figure(figsize=(12,8))\n",
        "tree.plot_tree(clf,rounded=True,filled=True)\n",
        "plt.show()"
      ],
      "metadata": {
        "id": "pJti222xE-k1"
      },
      "execution_count": null,
      "outputs": []
    },
    {
      "cell_type": "code",
      "source": [
        "print(accuracy_score(y_test,clf.predict(X_test)))\n",
        "print(classification_report(y_test,y_test_predicted))\n",
        "confusion_matrix(y_test,y_test_predicted)"
      ],
      "metadata": {
        "id": "U8V2g6l4FC5x"
      },
      "execution_count": null,
      "outputs": []
    },
    {
      "cell_type": "code",
      "source": [
        "from google.colab.patches import cv2_imshow\n",
        "\n",
        "\n",
        "image1 = cv2.imread(\"/content/Screenshot 2024-07-12 044857.png\")\n",
        "# Predict using the trained classifier\n",
        "cv2_imshow(image1)\n",
        "feature1 = load_extract_feature(\"/content/Screenshot 2024-07-12 044857.png\")\n",
        "feature2 = feature1.reshape(1,324)\n",
        "prediction = clf.predict(feature2)\n",
        "\n",
        "\n",
        "# Draw bounding box and label on the image\n",
        "label = \"Handwritten\" if prediction == 0 else \"Printed\"\n",
        "color = (0, 255, 0) if prediction == 0 else (0, 0, 255)\n",
        "print(label)"
      ],
      "metadata": {
        "id": "EGbDHu6RkSsA"
      },
      "execution_count": null,
      "outputs": []
    },
    {
      "cell_type": "code",
      "source": [
        "from sklearn.ensemble import RandomForestClassifier\n",
        "from sklearn.datasets import make_classification\n",
        "clf_2 = RandomForestClassifier(max_depth=8, random_state=0)\n",
        "clf_2.fit(X_train, y_train)"
      ],
      "metadata": {
        "id": "sgEQNQ1IDjLb"
      },
      "execution_count": null,
      "outputs": []
    },
    {
      "cell_type": "code",
      "source": [
        "y_predicted=clf_2.predict(X_test)\n",
        "print(accuracy_score(y_test,y_predicted))\n",
        "print(classification_report(y_test,y_predicted))\n",
        "confusion_matrix(y_test,y_predicted)"
      ],
      "metadata": {
        "id": "0kQeC2bcD0iy"
      },
      "execution_count": null,
      "outputs": []
    },
    {
      "cell_type": "code",
      "source": [
        "from sklearn.model_selection import cross_val_score\n",
        "\n",
        "model = RandomForestClassifier()\n",
        "scores = cross_val_score(model, A,B, cv=5)\n",
        "\n",
        "print(\"Cross-validation scores:\", scores)\n",
        "print(\"Mean accuracy:\", scores.mean())"
      ],
      "metadata": {
        "id": "B19qzo_GXHKL"
      },
      "execution_count": null,
      "outputs": []
    },
    {
      "cell_type": "code",
      "source": [
        "from sklearn import tree\n",
        "\n",
        "\n",
        "classes = ['0', '1'] # The name of each class\n",
        "\n",
        "for estimator in clf_2.estimators_:\n",
        "    print(estimator)\n",
        "    plt.figure(figsize=(12,6))\n",
        "    tree.plot_tree(estimator,\n",
        "                   class_names=classes,\n",
        "                   fontsize=8,\n",
        "                   filled=True,\n",
        "                   rounded=True)\n",
        "    plt.show()\n",
        "\n",
        "\n"
      ],
      "metadata": {
        "id": "AiSBAaqnD59a"
      },
      "execution_count": null,
      "outputs": []
    },
    {
      "cell_type": "code",
      "source": [
        "from google.colab.patches import cv2_imshow\n",
        "\n",
        "\n",
        "image1 = cv2.imread(\"/content/Screenshot 2024-07-12 043647.png\")\n",
        "# Predict using the trained classifier\n",
        "cv2_imshow(image1)\n",
        "feature1 = load_extract_feature(\"/content/Screenshot 2024-07-12 043647.png\")\n",
        "feature2 = feature1.reshape(1,324)\n",
        "prediction = clf_2.predict(feature2)\n",
        "\n",
        "\n",
        "# Draw bounding box and label on the image\n",
        "label = \"Handwritten\" if prediction == 0 else \"Printed\"\n",
        "color = (0, 255, 0) if prediction == 0 else (0, 0, 255)\n",
        "print(label)\n",
        "# cv2.rectangle(feature1, (x, y), (x+w, y+h), color, 2)\n",
        "# cv2.putText(word_img, label, (x, y-10), cv2.FONT_HERSHEY_SIMPLEX, 0.9, color, 2)"
      ],
      "metadata": {
        "id": "BTOmkxPXgyNt"
      },
      "execution_count": null,
      "outputs": []
    },
    {
      "cell_type": "code",
      "source": [
        "from sklearn.preprocessing import StandardScaler\n",
        "from sklearn.neighbors import KNeighborsClassifier\n",
        "scaler = StandardScaler()\n",
        "scaler.fit(X_train)\n",
        "X_train = scaler.transform(X_train)\n",
        "X_test = scaler.transform(X_test)\n",
        "\n",
        "classifier = KNeighborsClassifier(n_neighbors=5)\n",
        "classifier.fit(X_train,y_train)\n",
        "\n",
        "KNeighborsClassifier()\n",
        "\n",
        "y_perd = classifier.predict(X_test)\n",
        "\n",
        "print(accuracy_score(y_test,y_perd))\n",
        "print(classification_report(y_test,y_perd))\n",
        "confusion_matrix(y_test,y_perd)"
      ],
      "metadata": {
        "id": "MJZ-RQzK9aUw"
      },
      "execution_count": null,
      "outputs": []
    },
    {
      "cell_type": "code",
      "source": [
        "from google.colab.patches import cv2_imshow\n",
        "\n",
        "\n",
        "image1 = cv2.imread(\"/content/Screenshot 2024-07-14 174520.png\")\n",
        "# Predict using the trained classifier\n",
        "cv2_imshow(image1)\n",
        "feature1 = load_extract_feature(\"/content/Screenshot 2024-07-14 174520.png\")\n",
        "feature2 = feature1.reshape(1,324)\n",
        "prediction = classifier.predict(feature2)\n",
        "\n",
        "\n",
        "# Draw bounding box and label on the image\n",
        "label = \"Handwritten\" if prediction == 0 else \"Printed\"\n",
        "color = (0, 255, 0) if prediction == 0 else (0, 0, 255)\n",
        "print(label)\n",
        "# cv2.rectangle(feature1, (x, y), (x+w, y+h), color, 2)\n",
        "# cv2.putText(word_img, label, (x, y-10), cv2.FONT_HERSHEY_SIMPLEX, 0.9, color, 2)"
      ],
      "metadata": {
        "id": "WBhEvi_TGkHG"
      },
      "execution_count": null,
      "outputs": []
    },
    {
      "cell_type": "code",
      "source": [
        "from sklearn.svm import SVC\n",
        "\n",
        "X1 = A[:,0:2]\n",
        "print(X1)\n",
        "print(B)\n",
        "print(X1.shape)\n",
        "\n",
        "X_train,X_test,y_train,y_test=train_test_split(X1,B,random_state=0)\n",
        "clf_3 = SVC()\n",
        "clf_3.fit(X_train, y_train)\n",
        "\n",
        "y_test_predicted=clf_3.predict(X_test)\n",
        "\n",
        "print(accuracy_score(y_test,y_test_predicted))\n",
        "print(classification_report(y_test,y_test_predicted))\n",
        "confusion_matrix(y_test,y_test_predicted)"
      ],
      "metadata": {
        "id": "KD7sE3pwaxz9"
      },
      "execution_count": null,
      "outputs": []
    },
    {
      "cell_type": "code",
      "source": [
        "clf_4 = SVC(kernel = 'rbf', random_state = 0)\n",
        "clf_4.fit(X_train, y_train)\n",
        "y_train_predicted=clf_4.predict(X_train)\n",
        "y_test_predicted=clf_4.predict(X_test)\n",
        "accuracy_score(y_train,y_train_predicted)\n",
        "accuracy_score(y_test,y_test_predicted)"
      ],
      "metadata": {
        "id": "TMsNTUxWj8bc"
      },
      "execution_count": null,
      "outputs": []
    },
    {
      "cell_type": "code",
      "source": [
        "clf_4 = SVC(kernel = 'linear', random_state = 0)\n",
        "clf_4.fit(X_train, y_train)\n",
        "y_train_predicted=clf_4.predict(X_train)\n",
        "y_test_predicted=clf_4.predict(X_test)\n",
        "accuracy_score(y_train,y_train_predicted)\n",
        "accuracy_score(y_test,y_test_predicted)"
      ],
      "metadata": {
        "id": "YiBWY9SKkbtw"
      },
      "execution_count": null,
      "outputs": []
    },
    {
      "cell_type": "code",
      "source": [],
      "metadata": {
        "id": "Bmf8L0Rlkq99"
      },
      "execution_count": null,
      "outputs": []
    },
    {
      "cell_type": "code",
      "source": [
        "from google.colab.patches import cv2_imshow\n",
        "\n",
        "\n",
        "image1 = cv2.imread(\"/content/Screenshot 2024-07-12 044026.png\")\n",
        "# Predict using the trained classifier\n",
        "cv2_imshow(image1)\n",
        "feature1 = load_extract_feature(\"/content/Screenshot 2024-07-12 044026.png\")\n",
        "feature2 = feature1.reshape(1,324)\n",
        "prediction = clf_4.predict(feature2)\n",
        "\n",
        "\n",
        "# Draw bounding box and label on the image\n",
        "label = \"Handwritten\" if prediction == 0 else \"Printed\"\n",
        "color = (0, 255, 0) if prediction == 0 else (0, 0, 255)\n",
        "print(label)\n",
        "# cv2.rectangle(feature1, (x, y), (x+w, y+h), color, 2)\n",
        "# cv2.putText(word_img, label, (x, y-10), cv2.FONT_HERSHEY_SIMPLEX, 0.9, color, 2)"
      ],
      "metadata": {
        "id": "QasGcPGekts8"
      },
      "execution_count": null,
      "outputs": []
    },
    {
      "cell_type": "code",
      "source": [],
      "metadata": {
        "id": "qf-oOlaRk5H-"
      },
      "execution_count": null,
      "outputs": []
    },
    {
      "cell_type": "code",
      "source": [
        "from pathlib import Path\n",
        "\n",
        "\n",
        "model_path = Path('random_forest_classifier_2.pkl')\n",
        "joblib.dump(clf_2, model_path)\n",
        "\n",
        "print(f\"Model saved to {model_path}\")"
      ],
      "metadata": {
        "id": "-ppgo0wUyNfw"
      },
      "execution_count": null,
      "outputs": []
    },
    {
      "cell_type": "code",
      "source": [
        "from google.colab import drive\n",
        "drive.mount('/content/drive')"
      ],
      "metadata": {
        "id": "QkLpmSA6PVN6"
      },
      "execution_count": null,
      "outputs": []
    },
    {
      "cell_type": "code",
      "source": [
        "# MLP Classifier\n",
        "# adam-optimiser =\n",
        "# hidden_layer_sizes = 128, 528\n",
        "# lrate = .001\n",
        "# max_iter = 10000\n",
        "\n",
        "# max iter=10000\n",
        "# hidden layer output (128,512,128)\n",
        "# optimizer=Adam\n",
        "# lrate=0.0001\n",
        "\n",
        "\n",
        "# confidence scorer=accuracy"
      ],
      "metadata": {
        "id": "jW4u5g_f0G2-"
      },
      "execution_count": null,
      "outputs": []
    },
    {
      "cell_type": "code",
      "source": [
        "from sklearn.neural_network import MLPClassifier\n",
        "\n",
        "print(X_train.shape)\n",
        "print(X_test.shape)\n",
        "\n",
        "clf_MLP = MLPClassifier(random_state=1, max_iter=10000,hidden_layer_sizes=(128,512,128),learning_rate_init=0.0001).fit(X_train, y_train)\n",
        "y_test_predicted=clf_MLP.predict(X_test)\n",
        "print(clf_MLP.predict_proba(X_test))\n",
        "print(accuracy_score(y_test,y_test_predicted))\n",
        "print(clf_MLP.score(X_test, y_test))\n",
        "print(classification_report(y_test,y_test_predicted))\n",
        "confusion_matrix(y_test,y_test_predicted)"
      ],
      "metadata": {
        "id": "xHs37VsqgVz5"
      },
      "execution_count": null,
      "outputs": []
    },
    {
      "cell_type": "code",
      "source": [
        "from sklearn.neural_network import MLPClassifier\n",
        "\n",
        "layer_sizes = [(64,),(128,),(128, 64),(128, 128),(128,512,128),(256, 128, 64),(512, 256, 128)]\n",
        "\n",
        "hidden_layers=[]   #will store all the models here\n",
        "for layer in layer_sizes:\n",
        "    clf_mlp_class=MLPClassifier(random_state=1, max_iter=10000,hidden_layer_sizes=layer,learning_rate_init=0.0001)\n",
        "    clf_mlp_class.fit(X_train,y_train)\n",
        "    hidden_layers.append(clf_mlp_class)\n",
        "# print(\"Last node in Decision tree is {} and ccp_alpha for last node is {}\".format(hidden_layers[-1]))\n",
        "print(hidden_layers)"
      ],
      "metadata": {
        "id": "vt4qgg9XKWtR"
      },
      "execution_count": null,
      "outputs": []
    },
    {
      "cell_type": "code",
      "source": [
        "learning_values = [0.000001,0.0001,0.01,0.1,0.125]\n",
        "\n",
        "learning_rates=[]\n",
        "\n",
        "for learning_rate_init in learning_values:\n",
        "    print(learning_rate_init)\n",
        "    clf_mlp_class=MLPClassifier(random_state=1, max_iter=10000,hidden_layer_sizes=(128,512,128),learning_rate_init=learning_rate_init)\n",
        "    clf_mlp_class.fit(X_train,y_train)\n",
        "    learning_rates.append(clf_mlp_class)\n",
        "# print(\"Last node in Decision tree is {} and ccp_alpha for last node is {}\".format(hidden_layers[-1].tree_.node_count,layer_sizes[-1]))\n",
        "print(learning_rates)"
      ],
      "metadata": {
        "id": "-tGR1FsiNvsD"
      },
      "execution_count": null,
      "outputs": []
    },
    {
      "cell_type": "code",
      "source": [
        "random_states=[]\n",
        "\n",
        "for random_state in range(1,42):\n",
        "    # print(random_state)\n",
        "    clf_mlp_class=MLPClassifier(random_state=random_state, max_iter=10000,hidden_layer_sizes=(128,512,128),learning_rate_init=0.0001)\n",
        "    clf_mlp_class.fit(X_train,y_train)\n",
        "    random_states.append(clf_mlp_class)\n",
        "# print(\"Last node in Decision tree is {} and ccp_alpha for last node is {}\".format(hidden_layers[-1].tree_.node_count,layer_sizes[-1]))\n",
        "print(random_states)"
      ],
      "metadata": {
        "id": "eUtIBJz3CLrR"
      },
      "execution_count": null,
      "outputs": []
    },
    {
      "cell_type": "code",
      "source": [
        "from sklearn.model_selection import GridSearchCV\n",
        "\n",
        "parameter_space = {\n",
        "    'hidden_layer_sizes': [(64,),(128,),(128, 64),(128, 128),(128,512,128),(256, 128, 64),(512, 256, 128)],\n",
        "    'activation': ['tanh', 'relu'],\n",
        "    'solver': ['sgd', 'adam'],\n",
        "    'alpha': [0.0001, 0.05],\n",
        "    'learning_rate': ['constant','adaptive'],\n",
        "    'learning_rate_init': [0.001, 0.0001],\n",
        "}\n",
        "\n",
        "mlp = MLPClassifier(max_iter=10000)\n",
        "\n",
        "clf_mlp_bestfit = GridSearchCV(mlp, parameter_space,n_jobs=-1, cv=3)\n",
        "clf_mlp_bestfit.fit(X_train,y_train)\n",
        "\n",
        "# Best paramete set\n",
        "print('Best parameters found:\\n', clf_mlp_bestfit.best_params_)\n",
        "\n",
        "# All results\n",
        "means = clf_mlp_bestfit.cv_results_['mean_test_score']\n",
        "stds = clf_mlp_bestfit.cv_results_['std_test_score']\n",
        "for mean, std, params in zip(means, stds, clf_mlp_bestfit.cv_results_['params']):\n",
        "    print(\"%0.3f (+/-%0.03f) for %r\" % (mean, std * 2, params))"
      ],
      "metadata": {
        "id": "DMnHfPmKQ5B5"
      },
      "execution_count": null,
      "outputs": []
    },
    {
      "cell_type": "code",
      "source": [
        "num_neurons = [sum(layer) for layer in layer_sizes]\n",
        "\n",
        "train_scores = [clf_mlp_class.score(X_train, y_train) for clf_mlp_class in hidden_layers]\n",
        "test_scores = [clf_mlp_class.score(X_test, y_test) for clf_mlp_class in hidden_layers]\n",
        "fig, ax = plt.subplots()\n",
        "ax.set_xlabel(\"Hidden layers\")\n",
        "ax.set_ylabel(\"accuracy\")\n",
        "ax.set_title(\"Accuracy vs Hidden layers for training and testing sets\")\n",
        "ax.plot(num_neurons, train_scores, marker='o', label=\"train\",drawstyle=\"steps-post\")\n",
        "ax.plot(num_neurons, test_scores, marker='o', label=\"test\",drawstyle=\"steps-post\")\n",
        "ax.legend(fontsize=9)\n",
        "plt.show()"
      ],
      "metadata": {
        "id": "9jQsEfPz3ZdO"
      },
      "execution_count": null,
      "outputs": []
    },
    {
      "cell_type": "code",
      "source": [
        "# num_neurons = [sum(layer) for layer in learning_values]\n",
        "\n",
        "train_scores = [clf_mlp_class.score(X_train, y_train) for clf_mlp_class in learning_rates]\n",
        "test_scores = [clf_mlp_class.score(X_test, y_test) for clf_mlp_class in learning_rates]\n",
        "fig, ax = plt.subplots()\n",
        "ax.set_xlabel(\"Learning Rates\")\n",
        "ax.set_ylabel(\"accuracy\")\n",
        "ax.set_title(\"Accuracy vs Learning Rates for training and testing sets\")\n",
        "ax.plot(learning_values, train_scores, marker='o', label=\"train\",drawstyle=\"steps-post\")\n",
        "ax.plot(learning_values, test_scores, marker='o', label=\"test\",drawstyle=\"steps-post\")\n",
        "ax.legend()\n",
        "plt.show()"
      ],
      "metadata": {
        "id": "FjeIadFVqD4n"
      },
      "execution_count": null,
      "outputs": []
    },
    {
      "cell_type": "code",
      "source": [
        "train_scores = [clf_mlp_class.score(X_train, y_train) for clf_mlp_class in random_states]\n",
        "test_scores = [clf_mlp_class.score(X_test, y_test) for clf_mlp_class in random_states]\n",
        "fig, ax = plt.subplots()\n",
        "ax.set_xlabel(\"Random States\")\n",
        "ax.set_ylabel(\"accuracy\")\n",
        "ax.set_title(\"Accuracy vs Random States for training and testing sets\")\n",
        "ax.plot(list(range(1, 42)), train_scores, marker='o', label=\"train\",drawstyle=\"steps-post\")\n",
        "ax.plot(list(range(1, 42)), test_scores, marker='o', label=\"test\",drawstyle=\"steps-post\")\n",
        "ax.legend()\n",
        "plt.show()"
      ],
      "metadata": {
        "id": "i6bZDZVTBqkQ"
      },
      "execution_count": null,
      "outputs": []
    },
    {
      "cell_type": "code",
      "source": [
        "from google.colab.patches import cv2_imshow\n",
        "\n",
        "\n",
        "image1 = cv2.imread(\"/content/Screenshot 2024-07-12 045950.png\")\n",
        "# Predict using the trained classifier\n",
        "cv2_imshow(image1)\n",
        "feature1 = load_extract_feature(\"/content/Screenshot 2024-07-12 045950.png\")\n",
        "feature2 = feature1.reshape(1,72)\n",
        "\n",
        "print(feature2.shape)\n",
        "\n",
        "prediction = clf_MLP.predict(feature2)\n",
        "\n",
        "\n",
        "# Draw bounding box and label on the image\n",
        "label = \"Handwritten\" if prediction == 0 else \"Printed\"\n",
        "color = (0, 255, 0) if prediction == 0 else (0, 0, 255)\n",
        "print(label)\n",
        "# cv2.rectangle(feature1, (x, y), (x+w, y+h), color, 2)\n",
        "# cv2.putText(word_img, label, (x, y-10), cv2.FONT_HERSHEY_SIMPLEX, 0.9, color, 2)\n",
        "print(clf_MLP.predict_proba(feature2))"
      ],
      "metadata": {
        "id": "odBfgWldnRz_"
      },
      "execution_count": null,
      "outputs": []
    },
    {
      "cell_type": "code",
      "source": [
        "from pathlib import Path\n",
        "\n",
        "\n",
        "model_path = Path('MLP_classifier_glcm.pkl')\n",
        "joblib.dump(clf_MLP, model_path)\n",
        "\n",
        "print(f\"Model saved to {model_path}\")"
      ],
      "metadata": {
        "id": "L7_PBnvixwb-"
      },
      "execution_count": null,
      "outputs": []
    },
    {
      "cell_type": "code",
      "source": [
        "import matplotlib.pyplot as plt\n",
        "import numpy as np\n",
        "import pandas as pd\n",
        "from mpl_toolkits.mplot3d import Axes3D\n",
        "from matplotlib.patches import Patch\n",
        "\n",
        "model=['DecesionTreeeClassifier', 'DecisionTreeClassifier_alpha_pruning','RandomForestClassifier', 'KNeighborsClassifier', 'SVC', 'MLPClassifier']\n",
        "accuracy=[0.9333700440528634, 0.8667400881057269,0.9741189427312775,0.9465859030837004,0.7092511013215859,0.9752202643171806]\n",
        "colors = ['red', 'green', 'blue', 'orange','pink','yellow']\n",
        "\n",
        "\n",
        "accuracy = pd.DataFrame({'Model': model, 'Accuracy': accuracy})\n",
        "\n",
        "# # Create a bar chart\n",
        "# Create figure and 3D axis\n",
        "fig = plt.figure()\n",
        "ax = fig.add_subplot(111, projection='3d')\n",
        "\n",
        "# Data for plotting\n",
        "x = np.arange(len(accuracy['Model']))\n",
        "y = np.zeros(len(accuracy['Model']))\n",
        "z = np.zeros(len(accuracy['Model']))\n",
        "dx = np.ones(len(accuracy['Model']))\n",
        "dy = np.ones(len(accuracy['Model']))\n",
        "dz = accuracy['Accuracy']\n",
        "\n",
        "# Plot 3D bars (cylindrical-like)\n",
        "ax.bar3d(x, y, z, dx, dy, dz, color=colors)\n",
        "\n",
        "\n",
        "# Set labels\n",
        "ax.set_xticks(x)\n",
        "ax.set_xticklabels(accuracy['Model'],rotation=45, ha='right', fontsize=12)\n",
        "ax.set_xlabel('Model',fontsize=16, labelpad=80, rotation=0)\n",
        "ax.set_ylabel('Accuracy',fontsize=16,labelpad=8)\n",
        "# ax.set_zlabel('Accuracy',fontsize=8, loc='left')\n",
        "\n",
        "plt.title('Model vs accuracy bar graph')\n",
        "\n",
        "\n",
        "plt.show()"
      ],
      "metadata": {
        "id": "lBOSHWZDvZWc"
      },
      "execution_count": null,
      "outputs": []
    },
    {
      "cell_type": "code",
      "source": [
        "model=['DecesionTreeeClassifier', 'DecisionTreeClassifier_alpha_pruning','RandomForestClassifier', 'KNeighborsClassifier', 'SVC', 'MLPClassifier']\n",
        "accuracy=[0.9333700440528634, 0.8667400881057269,0.9741189427312775,0.9465859030837004,0.7092511013215859,0.9752202643171806]\n",
        "colors = ['red', 'green', 'blue', 'orange','pink','yellow', 'brown']\n",
        "\n",
        "accuracy = pd.DataFrame({'Model': model, 'Accuracy': accuracy})\n",
        "\n",
        "accuracy.plot(kind=\"bar\", x=\"Model\", y=\"Accuracy\", color=colors, legend=False, fontsize=12)\n",
        "\n",
        "plt.title('Model vs Accuracy')\n",
        "plt.xlabel('Model',fontsize=16)\n",
        "plt.ylabel('Accuracy', fontsize=16)\n",
        "\n",
        "plt.show()"
      ],
      "metadata": {
        "id": "nZYLS-C7EemN"
      },
      "execution_count": null,
      "outputs": []
    }
  ]
}